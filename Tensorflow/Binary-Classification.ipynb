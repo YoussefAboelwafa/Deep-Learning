{
 "cells": [
  {
   "cell_type": "code",
   "execution_count": 2,
   "metadata": {
    "ExecuteTime": {
     "end_time": "2023-09-25T23:28:25.532135819Z",
     "start_time": "2023-09-25T23:28:25.478280004Z"
    }
   },
   "outputs": [],
   "source": [
    "import numpy as np\n",
    "import pandas as pd\n",
    "import matplotlib.pyplot as plt\n",
    "from tensorflow.keras.layers import Dense\n",
    "from tensorflow.keras.models import Sequential, load_model\n",
    "from tensorflow.keras.utils import to_categorical\n",
    "from tensorflow.keras.callbacks import EarlyStopping\n",
    "import warnings\n",
    "warnings.filterwarnings('ignore')"
   ]
  },
  {
   "cell_type": "code",
   "execution_count": 3,
   "metadata": {
    "ExecuteTime": {
     "end_time": "2023-09-25T23:28:25.549585673Z",
     "start_time": "2023-09-25T23:28:25.483385877Z"
    }
   },
   "outputs": [
    {
     "name": "stdout",
     "output_type": "stream",
     "text": [
      "9\n",
      "[[1. 0.]\n",
      " [0. 1.]\n",
      " [0. 1.]\n",
      " [0. 1.]\n",
      " [1. 0.]]\n"
     ]
    }
   ],
   "source": [
    "titanic = pd.read_csv(\"../datasets/titanic.csv\")\n",
    "\n",
    "predictors = titanic.drop([\"survived\", \"age_was_missing\"], axis=1).values\n",
    "target = to_categorical(titanic.survived)\n",
    "\n",
    "# Save the number of columns in predictors: n_cols\n",
    "n_cols = predictors.shape[1]\n",
    "print(n_cols)\n",
    "print(target[:5])"
   ]
  },
  {
   "cell_type": "markdown",
   "metadata": {},
   "source": [
    "### Complie and fit the model with `loss='binary_crossentropy'` for binary classification\n"
   ]
  },
  {
   "cell_type": "code",
   "execution_count": 4,
   "metadata": {
    "ExecuteTime": {
     "end_time": "2023-09-25T23:28:28.570224387Z",
     "start_time": "2023-09-25T23:28:25.534114981Z"
    }
   },
   "outputs": [
    {
     "name": "stdout",
     "output_type": "stream",
     "text": [
      "Epoch 1/20\n"
     ]
    },
    {
     "name": "stderr",
     "output_type": "stream",
     "text": [
      "2024-04-13 16:06:23.281357: I tensorflow/compiler/xla/stream_executor/cuda/cuda_gpu_executor.cc:894] successful NUMA node read from SysFS had negative value (-1), but there must be at least one NUMA node, so returning NUMA node zero. See more at https://github.com/torvalds/linux/blob/v6.0/Documentation/ABI/testing/sysfs-bus-pci#L344-L355\n",
      "2024-04-13 16:06:23.424202: W tensorflow/core/common_runtime/gpu/gpu_device.cc:2211] Cannot dlopen some GPU libraries. Please make sure the missing libraries mentioned above are installed properly if you would like to use GPU. Follow the guide at https://www.tensorflow.org/install/gpu for how to download and setup the required libraries for your platform.\n",
      "Skipping registering GPU devices...\n"
     ]
    },
    {
     "name": "stdout",
     "output_type": "stream",
     "text": [
      "20/20 [==============================] - 1s 9ms/step - loss: 1.6251 - accuracy: 0.5457 - val_loss: 4.5561 - val_accuracy: 0.6418\n",
      "Epoch 2/20\n",
      "20/20 [==============================] - 0s 3ms/step - loss: 1.1639 - accuracy: 0.6019 - val_loss: 0.9326 - val_accuracy: 0.7090\n",
      "Epoch 3/20\n",
      "20/20 [==============================] - 0s 2ms/step - loss: 0.9452 - accuracy: 0.6421 - val_loss: 1.0870 - val_accuracy: 0.6418\n",
      "Epoch 4/20\n",
      "20/20 [==============================] - 0s 2ms/step - loss: 0.7679 - accuracy: 0.6437 - val_loss: 2.5696 - val_accuracy: 0.6418\n",
      "Epoch 5/20\n",
      "20/20 [==============================] - 0s 2ms/step - loss: 0.9522 - accuracy: 0.6228 - val_loss: 0.9060 - val_accuracy: 0.6604\n",
      "Epoch 6/20\n",
      "20/20 [==============================] - 0s 2ms/step - loss: 0.8537 - accuracy: 0.6404 - val_loss: 0.6036 - val_accuracy: 0.6903\n",
      "Epoch 7/20\n",
      "20/20 [==============================] - 0s 2ms/step - loss: 0.8256 - accuracy: 0.6356 - val_loss: 0.6821 - val_accuracy: 0.6455\n",
      "Epoch 8/20\n",
      "20/20 [==============================] - 0s 2ms/step - loss: 0.8152 - accuracy: 0.6421 - val_loss: 0.5592 - val_accuracy: 0.7164\n",
      "Epoch 9/20\n",
      "20/20 [==============================] - 0s 2ms/step - loss: 0.6966 - accuracy: 0.6581 - val_loss: 0.5581 - val_accuracy: 0.7276\n",
      "Epoch 10/20\n",
      "20/20 [==============================] - 0s 2ms/step - loss: 0.7376 - accuracy: 0.6453 - val_loss: 0.6466 - val_accuracy: 0.7015\n",
      "Epoch 11/20\n",
      "20/20 [==============================] - 0s 2ms/step - loss: 0.7151 - accuracy: 0.6565 - val_loss: 0.9445 - val_accuracy: 0.6418\n",
      "Epoch 12/20\n",
      "20/20 [==============================] - 0s 2ms/step - loss: 0.6643 - accuracy: 0.6533 - val_loss: 0.5612 - val_accuracy: 0.7313\n",
      "Epoch 13/20\n",
      "20/20 [==============================] - 0s 2ms/step - loss: 0.6536 - accuracy: 0.6597 - val_loss: 0.9595 - val_accuracy: 0.6604\n",
      "Epoch 14/20\n",
      "20/20 [==============================] - 0s 2ms/step - loss: 0.7265 - accuracy: 0.6709 - val_loss: 0.5584 - val_accuracy: 0.7313\n",
      "Epoch 15/20\n",
      "20/20 [==============================] - 0s 2ms/step - loss: 0.6394 - accuracy: 0.6693 - val_loss: 0.6033 - val_accuracy: 0.7127\n",
      "Epoch 16/20\n",
      "20/20 [==============================] - 0s 2ms/step - loss: 0.6480 - accuracy: 0.6469 - val_loss: 0.5555 - val_accuracy: 0.7313\n",
      "Epoch 17/20\n",
      "20/20 [==============================] - 0s 2ms/step - loss: 0.6623 - accuracy: 0.6517 - val_loss: 0.6801 - val_accuracy: 0.6530\n",
      "Epoch 18/20\n",
      "20/20 [==============================] - 0s 2ms/step - loss: 0.6555 - accuracy: 0.6806 - val_loss: 0.5867 - val_accuracy: 0.7090\n",
      "Epoch 19/20\n",
      "20/20 [==============================] - 0s 2ms/step - loss: 0.6270 - accuracy: 0.6645 - val_loss: 0.5502 - val_accuracy: 0.7425\n",
      "Epoch 20/20\n",
      "20/20 [==============================] - 0s 2ms/step - loss: 0.6145 - accuracy: 0.6838 - val_loss: 0.5892 - val_accuracy: 0.6903\n",
      "28/28 [==============================] - 0s 944us/step\n",
      "28/28 [==============================] - 0s 1ms/step - loss: 0.6444 - accuracy: 0.6723\n",
      "Accuracy: 0.6722783446311951\n"
     ]
    }
   ],
   "source": [
    "# Set up the model\n",
    "model = Sequential()\n",
    "\n",
    "# Add the first layer\n",
    "model.add(Dense(32, activation=\"relu\", input_shape=(n_cols,)))\n",
    "\n",
    "# Add the output layer\n",
    "model.add(Dense(2, activation=\"sigmoid\"))\n",
    "\n",
    "# Compile the model\n",
    "model.compile(optimizer=\"sgd\", loss=\"binary_crossentropy\", metrics=[\"accuracy\"])\n",
    "\n",
    "# Fit the model\n",
    "model.fit(predictors, target, epochs=20, validation_split=0.3)\n",
    "\n",
    "# Calculate predictions: predictions\n",
    "predictions = model.predict(predictors)\n",
    "\n",
    "# Calculate predicted probability of survival: predicted_prob_true\n",
    "predicted_prob_true = predictions[:, 1]\n",
    "\n",
    "# Print Accuracy\n",
    "loss, accuracy = model.evaluate(predictors, target)\n",
    "print(\"Accuracy:\", accuracy)"
   ]
  },
  {
   "cell_type": "markdown",
   "metadata": {},
   "source": [
    "## Model Evaluation\n"
   ]
  },
  {
   "cell_type": "code",
   "execution_count": null,
   "metadata": {},
   "outputs": [],
   "source": [
    "loss , accuracy = model.evaluate(predictors, target)\n",
    "print(loss)\n",
    "print(accuracy)"
   ]
  },
  {
   "cell_type": "markdown",
   "metadata": {},
   "source": [
    "## Save & Load\n"
   ]
  },
  {
   "cell_type": "code",
   "execution_count": null,
   "metadata": {
    "ExecuteTime": {
     "end_time": "2023-09-25T23:28:28.734270688Z",
     "start_time": "2023-09-25T23:28:28.562607027Z"
    }
   },
   "outputs": [],
   "source": [
    "model.save(\"..Saved/titanic_model.h5\")\n",
    "\n",
    "my_model = load_model(\"../Saved/titanic_model.h5\")\n",
    "my_model.summary()\n",
    "\n",
    "pred = my_model.predict(predictors)"
   ]
  }
 ],
 "metadata": {
  "kernelspec": {
   "display_name": "Python 3",
   "language": "python",
   "name": "python3"
  },
  "language_info": {
   "codemirror_mode": {
    "name": "ipython",
    "version": 3
   },
   "file_extension": ".py",
   "mimetype": "text/x-python",
   "name": "python",
   "nbconvert_exporter": "python",
   "pygments_lexer": "ipython3",
   "version": "3.10.12"
  },
  "orig_nbformat": 4
 },
 "nbformat": 4,
 "nbformat_minor": 2
}
