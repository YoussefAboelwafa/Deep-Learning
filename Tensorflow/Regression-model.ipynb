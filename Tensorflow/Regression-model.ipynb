{
 "cells": [
  {
   "cell_type": "code",
   "execution_count": 2,
   "metadata": {
    "ExecuteTime": {
     "end_time": "2023-09-28T07:50:26.397396951Z",
     "start_time": "2023-09-28T07:50:26.383097460Z"
    }
   },
   "outputs": [],
   "source": [
    "import numpy as np\n",
    "import pandas as pd\n",
    "import matplotlib.pyplot as plt\n",
    "from tensorflow.keras.layers import Dense\n",
    "from tensorflow.keras.models import Sequential\n",
    "from tensorflow.keras.callbacks import EarlyStopping\n",
    "from tensorflow.keras.utils import plot_model"
   ]
  },
  {
   "cell_type": "code",
   "execution_count": 3,
   "metadata": {
    "ExecuteTime": {
     "end_time": "2023-09-26T02:35:09.121563499Z",
     "start_time": "2023-09-26T02:35:09.108291353Z"
    }
   },
   "outputs": [],
   "source": [
    "wages = pd.read_csv(\"../datasets/wages.csv\")\n",
    "\n",
    "predictors = wages.drop([\"wage_per_hour\"], axis=1).values\n",
    "target = wages[\"wage_per_hour\"].values\n",
    "\n",
    "# Save the number of columns in predictors: n_cols\n",
    "n_cols = predictors.shape[1]"
   ]
  },
  {
   "cell_type": "markdown",
   "metadata": {},
   "source": [
    "### `early_stopping` with `patience=2` means to stop fitting if there is no decresing in the loss for the following 2 epochs\n"
   ]
  },
  {
   "cell_type": "code",
   "execution_count": 4,
   "metadata": {
    "ExecuteTime": {
     "end_time": "2023-09-26T02:35:31.655155322Z",
     "start_time": "2023-09-26T02:35:31.649784545Z"
    }
   },
   "outputs": [],
   "source": [
    "early_stopping = EarlyStopping(patience=4)"
   ]
  },
  {
   "cell_type": "markdown",
   "metadata": {},
   "source": [
    "### Complie and fit the model with `loss='mean_squared_error'` for regression\n",
    "\n",
    "### `validation_split = 0.3`\n",
    "\n",
    "### `metrics=[\"accuracy\"]` to show the accuracy with each epoch\n"
   ]
  },
  {
   "cell_type": "code",
   "execution_count": 5,
   "metadata": {
    "ExecuteTime": {
     "end_time": "2023-09-26T02:35:20.662800674Z",
     "start_time": "2023-09-26T02:35:17.822210259Z"
    }
   },
   "outputs": [
    {
     "name": "stdout",
     "output_type": "stream",
     "text": [
      "Epoch 1/20\n",
      "12/12 [==============================] - 2s 33ms/step - loss: 65.2243 - accuracy: 0.0027 - val_loss: 33.2770 - val_accuracy: 0.0000e+00\n",
      "Epoch 2/20\n",
      "12/12 [==============================] - 0s 7ms/step - loss: 29.0355 - accuracy: 0.0027 - val_loss: 29.1769 - val_accuracy: 0.0000e+00\n",
      "Epoch 3/20\n",
      "12/12 [==============================] - 0s 6ms/step - loss: 22.1092 - accuracy: 0.0027 - val_loss: 31.8278 - val_accuracy: 0.0000e+00\n",
      "Epoch 4/20\n",
      "12/12 [==============================] - 0s 6ms/step - loss: 21.0650 - accuracy: 0.0027 - val_loss: 26.4992 - val_accuracy: 0.0000e+00\n",
      "Epoch 5/20\n",
      "12/12 [==============================] - 0s 7ms/step - loss: 20.4283 - accuracy: 0.0027 - val_loss: 25.7459 - val_accuracy: 0.0000e+00\n",
      "Epoch 6/20\n",
      "12/12 [==============================] - 0s 5ms/step - loss: 20.1845 - accuracy: 0.0027 - val_loss: 26.1032 - val_accuracy: 0.0000e+00\n",
      "Epoch 7/20\n",
      "12/12 [==============================] - 0s 11ms/step - loss: 19.9869 - accuracy: 0.0027 - val_loss: 25.1751 - val_accuracy: 0.0000e+00\n",
      "Epoch 8/20\n",
      "12/12 [==============================] - 0s 13ms/step - loss: 19.8711 - accuracy: 0.0027 - val_loss: 25.6928 - val_accuracy: 0.0000e+00\n",
      "Epoch 9/20\n",
      "12/12 [==============================] - 0s 16ms/step - loss: 19.7101 - accuracy: 0.0027 - val_loss: 25.4362 - val_accuracy: 0.0000e+00\n",
      "Epoch 10/20\n",
      "12/12 [==============================] - 0s 12ms/step - loss: 19.5377 - accuracy: 0.0027 - val_loss: 25.4710 - val_accuracy: 0.0000e+00\n",
      "Epoch 11/20\n",
      "12/12 [==============================] - 0s 7ms/step - loss: 19.4756 - accuracy: 0.0027 - val_loss: 25.9795 - val_accuracy: 0.0000e+00\n"
     ]
    },
    {
     "data": {
      "text/plain": [
       "<keras.src.callbacks.History at 0x21f6ceb2450>"
      ]
     },
     "execution_count": 5,
     "metadata": {},
     "output_type": "execute_result"
    }
   ],
   "source": [
    "# Set up the model: model\n",
    "model = Sequential()\n",
    "\n",
    "# Add the first layer\n",
    "model.add(Dense(100, activation=\"relu\", input_shape=(n_cols,)))\n",
    "\n",
    "# Add the second layer\n",
    "model.add(Dense(50, activation=\"relu\"))\n",
    "\n",
    "# Add the output layer\n",
    "model.add(Dense(1))\n",
    "\n",
    "# Compile the model\n",
    "model.compile(optimizer=\"adam\", loss=\"mean_squared_error\", metrics=[\"accuracy\"])\n",
    "\n",
    "# Fit the model\n",
    "model.fit(\n",
    "    predictors, target, validation_split=0.3, epochs=20, callbacks=[early_stopping]\n",
    ")"
   ]
  },
  {
   "cell_type": "markdown",
   "metadata": {},
   "source": [
    "## Plot the model"
   ]
  },
  {
   "cell_type": "code",
   "execution_count": 10,
   "metadata": {},
   "outputs": [
    {
     "name": "stdout",
     "output_type": "stream",
     "text": [
      "Model: \"sequential\"\n",
      "_________________________________________________________________\n",
      " Layer (type)                Output Shape              Param #   \n",
      "=================================================================\n",
      " dense (Dense)               (None, 100)               1000      \n",
      "                                                                 \n",
      " dense_1 (Dense)             (None, 50)                5050      \n",
      "                                                                 \n",
      " dense_2 (Dense)             (None, 1)                 51        \n",
      "                                                                 \n",
      "=================================================================\n",
      "Total params: 6101 (23.83 KB)\n",
      "Trainable params: 6101 (23.83 KB)\n",
      "Non-trainable params: 0 (0.00 Byte)\n",
      "_________________________________________________________________\n"
     ]
    },
    {
     "data": {
      "image/png": "[encoded data removed]",
      "text/plain": [
       "<Figure size 640x480 with 1 Axes>"
      ]
     },
     "metadata": {},
     "output_type": "display_data"
    }
   ],
   "source": [
    "# Summarize the model\n",
    "model.summary()\n",
    "\n",
    "# Plot the model\n",
    "plot_model(model, to_file='Saved/regression_model.png')\n",
    "\n",
    "# Display the image\n",
    "data = plt.imread('Saved/regression_model.png')\n",
    "plt.imshow(data)\n",
    "plt.show()"
   ]
  }
 ],
 "metadata": {
  "kernelspec": {
   "display_name": "Python 3",
   "language": "python",
   "name": "python3"
  },
  "language_info": {
   "codemirror_mode": {
    "name": "ipython",
    "version": 3
   },
   "file_extension": ".py",
   "mimetype": "text/x-python",
   "name": "python",
   "nbconvert_exporter": "python",
   "pygments_lexer": "ipython3",
   "version": "3.11.0"
  },
  "orig_nbformat": 4
 },
 "nbformat": 4,
 "nbformat_minor": 2
}
