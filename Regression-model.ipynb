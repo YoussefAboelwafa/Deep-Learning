{
 "cells": [
  {
   "cell_type": "code",
   "execution_count": 5,
   "metadata": {
    "ExecuteTime": {
     "end_time": "2023-09-26T02:35:07.068424200Z",
     "start_time": "2023-09-26T02:35:07.063336493Z"
    }
   },
   "outputs": [],
   "source": [
    "import numpy as np\n",
    "import pandas as pd\n",
    "from tensorflow.keras.layers import Dense\n",
    "from tensorflow.keras.models import Sequential\n",
    "from tensorflow.keras.callbacks import EarlyStopping"
   ]
  },
  {
   "cell_type": "code",
   "execution_count": 2,
   "metadata": {
    "ExecuteTime": {
     "end_time": "2023-09-26T02:35:09.121563499Z",
     "start_time": "2023-09-26T02:35:09.108291353Z"
    }
   },
   "outputs": [],
   "source": [
    "wages = pd.read_csv(\"datasets/wages.csv\")\n",
    "\n",
    "predictors = wages.drop([\"wage_per_hour\"], axis=1).values\n",
    "target = wages[\"wage_per_hour\"].values\n",
    "\n",
    "# Save the number of columns in predictors: n_cols\n",
    "n_cols = predictors.shape[1]"
   ]
  },
  {
   "cell_type": "markdown",
   "metadata": {},
   "source": [
    "### `early_stopping` with `patience=2` means to stop fitting if there is no decresing in the loss for the following 2 epochs\n"
   ]
  },
  {
   "cell_type": "code",
   "execution_count": 3,
   "metadata": {
    "ExecuteTime": {
     "end_time": "2023-09-26T02:35:31.655155322Z",
     "start_time": "2023-09-26T02:35:31.649784545Z"
    }
   },
   "outputs": [],
   "source": [
    "early_stopping = EarlyStopping(patience=2)"
   ]
  },
  {
   "cell_type": "markdown",
   "metadata": {},
   "source": [
    "### Complie and fit the model with `loss='mean_squared_error'` for regression\n",
    "\n",
    "### `validation_split = 0.3`\n",
    "\n",
    "### `metrics=[\"accuracy\"]` to show the accuracy with each epoch\n"
   ]
  },
  {
   "cell_type": "code",
   "execution_count": 37,
   "metadata": {
    "ExecuteTime": {
     "end_time": "2023-09-26T02:35:20.662800674Z",
     "start_time": "2023-09-26T02:35:17.822210259Z"
    }
   },
   "outputs": [
    {
     "name": "stdout",
     "output_type": "stream",
     "text": [
      "Epoch 1/20\n",
      "12/12 [==============================] - 1s 11ms/step - loss: 98.1853 - accuracy: 0.0000e+00 - val_loss: 38.2903 - val_accuracy: 0.0000e+00\n",
      "Epoch 2/20\n",
      "12/12 [==============================] - 0s 3ms/step - loss: 28.3318 - accuracy: 0.0027 - val_loss: 32.4129 - val_accuracy: 0.0000e+00\n",
      "Epoch 3/20\n",
      "12/12 [==============================] - 0s 3ms/step - loss: 23.4990 - accuracy: 0.0027 - val_loss: 32.9966 - val_accuracy: 0.0000e+00\n",
      "Epoch 4/20\n",
      "12/12 [==============================] - 0s 3ms/step - loss: 22.3476 - accuracy: 0.0027 - val_loss: 29.6712 - val_accuracy: 0.0000e+00\n",
      "Epoch 5/20\n",
      "12/12 [==============================] - 0s 3ms/step - loss: 21.0565 - accuracy: 0.0027 - val_loss: 26.5868 - val_accuracy: 0.0000e+00\n",
      "Epoch 6/20\n",
      "12/12 [==============================] - 0s 3ms/step - loss: 20.0813 - accuracy: 0.0027 - val_loss: 27.3121 - val_accuracy: 0.0000e+00\n",
      "Epoch 7/20\n",
      "12/12 [==============================] - 0s 3ms/step - loss: 20.0521 - accuracy: 0.0027 - val_loss: 25.4942 - val_accuracy: 0.0000e+00\n",
      "Epoch 8/20\n",
      "12/12 [==============================] - 0s 3ms/step - loss: 19.7126 - accuracy: 0.0027 - val_loss: 25.9973 - val_accuracy: 0.0000e+00\n",
      "Epoch 9/20\n",
      "12/12 [==============================] - 0s 3ms/step - loss: 19.6758 - accuracy: 0.0027 - val_loss: 25.7696 - val_accuracy: 0.0000e+00\n"
     ]
    },
    {
     "data": {
      "text/plain": [
       "<keras.src.callbacks.History at 0x7f1b746ba770>"
      ]
     },
     "execution_count": 37,
     "metadata": {},
     "output_type": "execute_result"
    }
   ],
   "source": [
    "# Set up the model: model\n",
    "model = Sequential()\n",
    "\n",
    "# Add the first layer\n",
    "model.add(Dense(100, activation=\"relu\", input_shape=(n_cols,)))\n",
    "\n",
    "# Add the second layer\n",
    "model.add(Dense(50, activation=\"relu\"))\n",
    "\n",
    "# Add the output layer\n",
    "model.add(Dense(1))\n",
    "\n",
    "# Compile the model\n",
    "model.compile(optimizer=\"adam\", loss=\"mean_squared_error\", metrics=[\"accuracy\"])\n",
    "\n",
    "# Fit the model\n",
    "model.fit(\n",
    "    predictors, target, validation_split=0.3, epochs=20, callbacks=[early_stopping]\n",
    ")"
   ]
  }
 ],
 "metadata": {
  "kernelspec": {
   "display_name": "Python 3",
   "language": "python",
   "name": "python3"
  },
  "language_info": {
   "codemirror_mode": {
    "name": "ipython",
    "version": 3
   },
   "file_extension": ".py",
   "mimetype": "text/x-python",
   "name": "python",
   "nbconvert_exporter": "python",
   "pygments_lexer": "ipython3",
   "version": "3.10.12"
  },
  "orig_nbformat": 4
 },
 "nbformat": 4,
 "nbformat_minor": 2
}
