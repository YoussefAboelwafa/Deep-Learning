{
 "cells": [
  {
   "cell_type": "code",
   "execution_count": null,
   "metadata": {
    "ExecuteTime": {
     "end_time": "2023-09-28T07:50:26.397396951Z",
     "start_time": "2023-09-28T07:50:26.383097460Z"
    }
   },
   "outputs": [],
   "source": [
    "import numpy as np\n",
    "import pandas as pd\n",
    "from tensorflow.keras.layers import Dense\n",
    "from tensorflow.keras.models import Sequential\n",
    "from tensorflow.keras.callbacks import EarlyStopping"
   ]
  },
  {
   "cell_type": "code",
   "execution_count": null,
   "metadata": {
    "ExecuteTime": {
     "end_time": "2023-09-26T02:35:09.121563499Z",
     "start_time": "2023-09-26T02:35:09.108291353Z"
    }
   },
   "outputs": [],
   "source": [
    "wages = pd.read_csv(\"datasets/wages.csv\")\n",
    "\n",
    "predictors = wages.drop([\"wage_per_hour\"], axis=1).values\n",
    "target = wages[\"wage_per_hour\"].values\n",
    "\n",
    "# Save the number of columns in predictors: n_cols\n",
    "n_cols = predictors.shape[1]"
   ]
  },
  {
   "cell_type": "markdown",
   "metadata": {},
   "source": [
    "### `early_stopping` with `patience=2` means to stop fitting if there is no decresing in the loss for the following 2 epochs\n"
   ]
  },
  {
   "cell_type": "code",
   "execution_count": null,
   "metadata": {
    "ExecuteTime": {
     "end_time": "2023-09-26T02:35:31.655155322Z",
     "start_time": "2023-09-26T02:35:31.649784545Z"
    }
   },
   "outputs": [],
   "source": [
    "early_stopping = EarlyStopping(patience=4)"
   ]
  },
  {
   "cell_type": "markdown",
   "metadata": {},
   "source": [
    "### Complie and fit the model with `loss='mean_squared_error'` for regression\n",
    "\n",
    "### `validation_split = 0.3`\n",
    "\n",
    "### `metrics=[\"accuracy\"]` to show the accuracy with each epoch\n"
   ]
  },
  {
   "cell_type": "code",
   "execution_count": null,
   "metadata": {
    "ExecuteTime": {
     "end_time": "2023-09-26T02:35:20.662800674Z",
     "start_time": "2023-09-26T02:35:17.822210259Z"
    }
   },
   "outputs": [],
   "source": [
    "# Set up the model: model\n",
    "model = Sequential()\n",
    "\n",
    "# Add the first layer\n",
    "model.add(Dense(100, activation=\"relu\", input_shape=(n_cols,)))\n",
    "\n",
    "# Add the second layer\n",
    "model.add(Dense(50, activation=\"relu\"))\n",
    "\n",
    "# Add the output layer\n",
    "model.add(Dense(1))\n",
    "\n",
    "# Compile the model\n",
    "model.compile(optimizer=\"adam\", loss=\"mean_squared_error\", metrics=[\"accuracy\"])\n",
    "\n",
    "# Fit the model\n",
    "model.fit(\n",
    "    predictors, target, validation_split=0.3, epochs=20, callbacks=[early_stopping]\n",
    ")"
   ]
  }
 ],
 "metadata": {
  "kernelspec": {
   "display_name": "Python 3",
   "language": "python",
   "name": "python3"
  },
  "language_info": {
   "codemirror_mode": {
    "name": "ipython",
    "version": 3
   },
   "file_extension": ".py",
   "mimetype": "text/x-python",
   "name": "python",
   "nbconvert_exporter": "python",
   "pygments_lexer": "ipython3",
   "version": "3.10.7"
  },
  "orig_nbformat": 4
 },
 "nbformat": 4,
 "nbformat_minor": 2
}
