{
 "cells": [
  {
   "cell_type": "code",
   "execution_count": 6,
   "metadata": {
    "ExecuteTime": {
     "end_time": "2023-09-25T23:29:39.555174805Z",
     "start_time": "2023-09-25T23:29:37.993941200Z"
    }
   },
   "outputs": [],
   "source": [
    "import numpy as np\n",
    "import pandas as pd\n",
    "from tensorflow.keras.layers import Dense\n",
    "from tensorflow.keras.models import Sequential\n",
    "from tensorflow.keras.callbacks import EarlyStopping"
   ]
  },
  {
   "cell_type": "code",
   "execution_count": 7,
   "metadata": {
    "ExecuteTime": {
     "end_time": "2023-09-25T23:29:39.562816774Z",
     "start_time": "2023-09-25T23:29:39.557013516Z"
    }
   },
   "outputs": [],
   "source": [
    "wages = pd.read_csv(\"datasets/wages.csv\")\n",
    "\n",
    "predictors = wages.drop([\"wage_per_hour\"], axis=1).values\n",
    "target = wages[\"wage_per_hour\"].values\n",
    "\n",
    "# Save the number of columns in predictors: n_cols\n",
    "n_cols = predictors.shape[1]"
   ]
  },
  {
   "cell_type": "markdown",
   "metadata": {},
   "source": [
    "### `early_stopping` with `patience=2` means to stop fitting if there is no decresing in the loss for the following 2 epochs\n"
   ]
  },
  {
   "cell_type": "code",
   "execution_count": 8,
   "metadata": {
    "ExecuteTime": {
     "end_time": "2023-09-25T23:29:39.570591666Z",
     "start_time": "2023-09-25T23:29:39.563102404Z"
    }
   },
   "outputs": [],
   "source": [
    "early_stopping = EarlyStopping(patience=2)"
   ]
  },
  {
   "cell_type": "markdown",
   "metadata": {},
   "source": [
    "### Complie and fit the model with `loss='mean_squared_error'` for regression\n",
    "\n",
    "### `validation_split = 0.3`\n",
    "\n",
    "### `metrics=[\"accuracy\"]` to show the accuracy with each epoch\n"
   ]
  },
  {
   "cell_type": "code",
   "execution_count": 9,
   "metadata": {
    "ExecuteTime": {
     "end_time": "2023-09-25T23:29:42.900504Z",
     "start_time": "2023-09-25T23:29:39.567596034Z"
    }
   },
   "outputs": [
    {
     "name": "stdout",
     "output_type": "stream",
     "text": [
      "Epoch 1/20\n",
      "12/12 [==============================] - 1s 11ms/step - loss: 64.8573 - accuracy: 0.0027 - val_loss: 36.3932 - val_accuracy: 0.0000e+00\n",
      "Epoch 2/20\n",
      "12/12 [==============================] - 0s 3ms/step - loss: 25.8983 - accuracy: 0.0027 - val_loss: 31.2589 - val_accuracy: 0.0000e+00\n",
      "Epoch 3/20\n",
      "12/12 [==============================] - 0s 3ms/step - loss: 23.3375 - accuracy: 0.0027 - val_loss: 32.2660 - val_accuracy: 0.0000e+00\n",
      "Epoch 4/20\n",
      "12/12 [==============================] - 0s 3ms/step - loss: 21.6813 - accuracy: 0.0027 - val_loss: 29.0982 - val_accuracy: 0.0000e+00\n",
      "Epoch 5/20\n",
      "12/12 [==============================] - 0s 3ms/step - loss: 20.6836 - accuracy: 0.0027 - val_loss: 27.6849 - val_accuracy: 0.0000e+00\n",
      "Epoch 6/20\n",
      "12/12 [==============================] - 0s 3ms/step - loss: 20.4484 - accuracy: 0.0027 - val_loss: 27.4398 - val_accuracy: 0.0000e+00\n",
      "Epoch 7/20\n",
      "12/12 [==============================] - 0s 3ms/step - loss: 20.2526 - accuracy: 0.0027 - val_loss: 26.7463 - val_accuracy: 0.0000e+00\n",
      "Epoch 8/20\n",
      "12/12 [==============================] - 0s 3ms/step - loss: 19.9114 - accuracy: 0.0027 - val_loss: 26.1662 - val_accuracy: 0.0000e+00\n",
      "Epoch 9/20\n",
      "12/12 [==============================] - 0s 3ms/step - loss: 19.7476 - accuracy: 0.0027 - val_loss: 26.0174 - val_accuracy: 0.0000e+00\n",
      "Epoch 10/20\n",
      "12/12 [==============================] - 0s 3ms/step - loss: 19.6884 - accuracy: 0.0027 - val_loss: 25.4380 - val_accuracy: 0.0000e+00\n",
      "Epoch 11/20\n",
      "12/12 [==============================] - 0s 3ms/step - loss: 19.6748 - accuracy: 0.0027 - val_loss: 25.7250 - val_accuracy: 0.0000e+00\n",
      "Epoch 12/20\n",
      "12/12 [==============================] - 0s 3ms/step - loss: 19.5620 - accuracy: 0.0027 - val_loss: 25.7101 - val_accuracy: 0.0000e+00\n",
      "17/17 [==============================] - 0s 674us/step\n"
     ]
    }
   ],
   "source": [
    "# Set up the model: model\n",
    "model = Sequential()\n",
    "\n",
    "# Add the first layer\n",
    "model.add(Dense(50, activation=\"relu\", input_shape=(n_cols,)))\n",
    "\n",
    "# Add the second layer\n",
    "model.add(Dense(32, activation=\"relu\"))\n",
    "\n",
    "# Add the output layer\n",
    "model.add(Dense(1))\n",
    "\n",
    "# Compile the model\n",
    "model.compile(optimizer=\"adam\", loss=\"mean_squared_error\", metrics=[\"accuracy\"])\n",
    "\n",
    "# Fit the model\n",
    "model.fit(\n",
    "    predictors, target, validation_split=0.3, epochs=20, callbacks=[early_stopping]\n",
    ")\n",
    "\n",
    "preds = model.predict(predictors)"
   ]
  }
 ],
 "metadata": {
  "kernelspec": {
   "display_name": "Python 3",
   "language": "python",
   "name": "python3"
  },
  "language_info": {
   "codemirror_mode": {
    "name": "ipython",
    "version": 3
   },
   "file_extension": ".py",
   "mimetype": "text/x-python",
   "name": "python",
   "nbconvert_exporter": "python",
   "pygments_lexer": "ipython3",
   "version": "3.10.12"
  },
  "orig_nbformat": 4
 },
 "nbformat": 4,
 "nbformat_minor": 2
}
