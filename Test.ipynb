{
  "nbformat": 4,
  "nbformat_minor": 0,
  "metadata": {
    "colab": {
      "provenance": [],
      "authorship_tag": "ABX9TyPM9EUBhYAhRNNC6Q0NAOXn"
    },
    "kernelspec": {
      "name": "python3",
      "display_name": "Python 3"
    },
    "language_info": {
      "name": "python"
    }
  },
  "cells": [
    {
      "cell_type": "code",
      "source": [
        "import sympy\n",
        "J,w = sympy.symbols('J,w')\n",
        "J = w**2\n",
        "J"
      ],
      "metadata": {
        "colab": {
          "base_uri": "https://localhost:8080/",
          "height": 38
        },
        "id": "EvmP3BR67kBs",
        "outputId": "46aee0a3-ce77-4706-a1f5-d8917967e344"
      },
      "execution_count": 7,
      "outputs": [
        {
          "output_type": "execute_result",
          "data": {
            "text/plain": [
              "w**2"
            ],
            "text/latex": "$\\displaystyle w^{2}$"
          },
          "metadata": {},
          "execution_count": 7
        }
      ]
    },
    {
      "cell_type": "code",
      "source": [
        "dJ_dw = sympy.diff(J,w)\n",
        "dJ_dw"
      ],
      "metadata": {
        "colab": {
          "base_uri": "https://localhost:8080/",
          "height": 38
        },
        "id": "swOUTfYU78yB",
        "outputId": "ee8a49ec-a9b1-4a87-e922-34e21c19fd95"
      },
      "execution_count": 8,
      "outputs": [
        {
          "output_type": "execute_result",
          "data": {
            "text/plain": [
              "2*w"
            ],
            "text/latex": "$\\displaystyle 2 w$"
          },
          "metadata": {},
          "execution_count": 8
        }
      ]
    }
  ]
}