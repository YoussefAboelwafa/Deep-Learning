{
 "cells": [
  {
   "cell_type": "code",
   "execution_count": 132,
   "metadata": {},
   "outputs": [],
   "source": [
    "import numpy as np\n",
    "import pandas as pd\n",
    "import matplotlib.pyplot as plt\n",
    "from tensorflow.keras.layers import Dense\n",
    "from tensorflow.keras.models import Sequential, load_model\n",
    "from tensorflow.keras.utils import to_categorical\n",
    "from tensorflow.keras.callbacks import EarlyStopping"
   ]
  },
  {
   "cell_type": "code",
   "execution_count": null,
   "metadata": {},
   "outputs": [],
   "source": [
    "titanic = pd.read_csv(\"datasets/titanic.csv\")\n",
    "\n",
    "predictors = titanic.drop([\"survived\", \"age_was_missing\"], axis=1).values\n",
    "target = to_categorical(titanic.survived)\n",
    "\n",
    "# Save the number of columns in predictors: n_cols\n",
    "n_cols = predictors.shape[1]\n",
    "print(n_cols)\n",
    "print(target[:5])"
   ]
  },
  {
   "cell_type": "markdown",
   "metadata": {},
   "source": [
    "### Complie and fit the model with `loss='categorical_crossentropy'` for classification"
   ]
  },
  {
   "cell_type": "code",
   "execution_count": null,
   "metadata": {},
   "outputs": [],
   "source": [
    "# Set up the model\n",
    "model = Sequential()\n",
    "\n",
    "# Add the first layer\n",
    "model.add(Dense(32, activation = 'relu', input_shape = (n_cols,)))\n",
    "\n",
    "# Add the output layer\n",
    "model.add(Dense(2, activation= 'softmax'))\n",
    "\n",
    "# Compile the model\n",
    "model.compile(optimizer = 'sgd', loss = 'categorical_crossentropy', metrics = ['accuracy'])\n",
    "\n",
    "# Fit the model\n",
    "model.fit(predictors, target, epochs=20)\n",
    "\n",
    "# Calculate predictions: predictions\n",
    "predictions = model.predict(predictors)\n",
    "\n",
    "# Calculate predicted probability of survival: predicted_prob_true\n",
    "predicted_prob_true = predictions[:,1]\n",
    "\n",
    "# Print Accuracy\n",
    "loss, accuracy = model.evaluate(predictors, target)\n",
    "print('Accuracy:', accuracy)"
   ]
  },
  {
   "cell_type": "markdown",
   "metadata": {},
   "source": [
    "## Save & Load"
   ]
  },
  {
   "cell_type": "code",
   "execution_count": null,
   "metadata": {},
   "outputs": [],
   "source": [
    "model.save(\"Saved/titanic_model.h5\")\n",
    "\n",
    "my_model = load_model(\"Saved/titanic_model.h5\")\n",
    "my_model.summary()\n",
    "\n",
    "pred = my_model.predict(predictors)"
   ]
  },
  {
   "cell_type": "markdown",
   "metadata": {},
   "source": [
    "## Compare Models"
   ]
  },
  {
   "cell_type": "code",
   "execution_count": null,
   "metadata": {},
   "outputs": [],
   "source": [
    "early_stopping = EarlyStopping(patience=3)\n",
    "\n",
    "# Model 1\n",
    "model1 = Sequential()\n",
    "\n",
    "model1.add(Dense(10, activation = 'relu', input_shape = (n_cols,)))\n",
    "\n",
    "model1.add(Dense(10, activation= 'relu'))\n",
    "\n",
    "model1.add(Dense(2, activation= 'softmax'))\n",
    "\n",
    "model1.compile(optimizer = 'sgd', loss = 'categorical_crossentropy', metrics = ['accuracy'])\n",
    "\n",
    "model1_training = model1.fit(predictors, target, epochs=15, validation_split=0.2, callbacks=[early_stopping], verbose=False)\n",
    "\n",
    "\n",
    "# Model 2 same as model 1 but with more nodes\n",
    "model2 = Sequential()\n",
    "\n",
    "model2.add(Dense(100, activation = 'relu', input_shape = (n_cols,)))\n",
    "\n",
    "model2.add(Dense(50, activation = 'relu'))\n",
    "\n",
    "model2.add(Dense(2, activation= 'softmax'))\n",
    "\n",
    "model2.compile(optimizer = 'sgd', loss = 'categorical_crossentropy', metrics = ['accuracy'])\n",
    "\n",
    "model2_training = model2.fit(predictors, target, epochs=15, validation_split=0.2, callbacks=[early_stopping], verbose=False)\n",
    "\n",
    "\n",
    "# Model 3 same as model 1 but with more layers\n",
    "model3 = Sequential()\n",
    "\n",
    "model3.add(Dense(10, activation = 'relu', input_shape = (n_cols,)))\n",
    "\n",
    "model3.add(Dense(10, activation = 'relu'))\n",
    "\n",
    "model3.add(Dense(10, activation = 'relu'))\n",
    "\n",
    "model3.add(Dense(2, activation= 'softmax'))\n",
    "\n",
    "model3.compile(optimizer = 'sgd', loss = 'categorical_crossentropy', metrics = ['accuracy'])\n",
    "\n",
    "model3_training = model3.fit(predictors, target, epochs=15, validation_split=0.2, callbacks=[early_stopping], verbose=False)\n",
    "\n",
    "\n",
    "\n",
    "\n",
    "print(model1_training.history['val_accuracy'])\n",
    "print(model2_training.history['val_accuracy'])\n",
    "print(model3_training.history['val_accuracy'])\n",
    "\n",
    "print(\"final_accuracy1 = \", model1_training.history['val_accuracy'][-1])\n",
    "print(\"final_accuracy2 = \", model2_training.history['val_accuracy'][-1])\n",
    "print(\"final_accuracy3 = \", model3_training.history['val_accuracy'][-1])\n",
    " \n",
    "# Plot the Comparasion\n",
    "plt.plot(model1_training.history['val_accuracy'], 'r', model2_training.history['val_accuracy'], 'b', model3_training.history['val_accuracy'], 'g')\n",
    "plt.xlabel('Epochs')\n",
    "plt.xlim(0, 15)\n",
    "plt.ylabel('Validation accuracy score')\n",
    "plt.show()\n"
   ]
  }
 ],
 "metadata": {
  "kernelspec": {
   "display_name": "Python 3",
   "language": "python",
   "name": "python3"
  },
  "language_info": {
   "codemirror_mode": {
    "name": "ipython",
    "version": 3
   },
   "file_extension": ".py",
   "mimetype": "text/x-python",
   "name": "python",
   "nbconvert_exporter": "python",
   "pygments_lexer": "ipython3",
   "version": "3.10.7"
  },
  "orig_nbformat": 4
 },
 "nbformat": 4,
 "nbformat_minor": 2
}
