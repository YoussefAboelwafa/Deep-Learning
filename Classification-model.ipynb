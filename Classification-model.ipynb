{
 "cells": [
  {
   "cell_type": "code",
   "execution_count": 3,
   "metadata": {
    "ExecuteTime": {
     "end_time": "2023-09-25T23:28:25.532135819Z",
     "start_time": "2023-09-25T23:28:25.478280004Z"
    }
   },
   "outputs": [],
   "source": [
    "import numpy as np\n",
    "import pandas as pd\n",
    "import matplotlib.pyplot as plt\n",
    "from tensorflow.keras.layers import Dense\n",
    "from tensorflow.keras.models import Sequential, load_model\n",
    "from tensorflow.keras.utils import to_categorical\n",
    "from tensorflow.keras.callbacks import EarlyStopping"
   ]
  },
  {
   "cell_type": "code",
   "execution_count": 4,
   "metadata": {
    "ExecuteTime": {
     "end_time": "2023-09-25T23:28:25.549585673Z",
     "start_time": "2023-09-25T23:28:25.483385877Z"
    }
   },
   "outputs": [
    {
     "name": "stdout",
     "output_type": "stream",
     "text": [
      "9\n",
      "[[1. 0.]\n",
      " [0. 1.]\n",
      " [0. 1.]\n",
      " [0. 1.]\n",
      " [1. 0.]]\n"
     ]
    }
   ],
   "source": [
    "titanic = pd.read_csv(\"datasets/titanic.csv\")\n",
    "\n",
    "predictors = titanic.drop([\"survived\", \"age_was_missing\"], axis=1).values\n",
    "target = to_categorical(titanic.survived)\n",
    "\n",
    "# Save the number of columns in predictors: n_cols\n",
    "n_cols = predictors.shape[1]\n",
    "print(n_cols)\n",
    "print(target[:5])"
   ]
  },
  {
   "cell_type": "markdown",
   "metadata": {},
   "source": [
    "### Complie and fit the model with `loss='categorical_crossentropy'` for classification\n"
   ]
  },
  {
   "cell_type": "code",
   "execution_count": 5,
   "metadata": {
    "ExecuteTime": {
     "end_time": "2023-09-25T23:28:28.570224387Z",
     "start_time": "2023-09-25T23:28:25.534114981Z"
    }
   },
   "outputs": [
    {
     "name": "stdout",
     "output_type": "stream",
     "text": [
      "Epoch 1/20\n"
     ]
    },
    {
     "name": "stderr",
     "output_type": "stream",
     "text": [
      "2023-09-26 05:08:10.788698: E tensorflow/compiler/xla/stream_executor/cuda/cuda_driver.cc:268] failed call to cuInit: CUDA_ERROR_NO_DEVICE: no CUDA-capable device is detected\n"
     ]
    },
    {
     "name": "stdout",
     "output_type": "stream",
     "text": [
      "28/28 [==============================] - 0s 1ms/step - loss: 2.6893 - accuracy: 0.6105\n",
      "Epoch 2/20\n",
      "28/28 [==============================] - 0s 983us/step - loss: 0.7910 - accuracy: 0.6498\n",
      "Epoch 3/20\n",
      "28/28 [==============================] - 0s 871us/step - loss: 0.6637 - accuracy: 0.6667\n",
      "Epoch 4/20\n",
      "28/28 [==============================] - 0s 898us/step - loss: 0.6329 - accuracy: 0.6644\n",
      "Epoch 5/20\n",
      "28/28 [==============================] - 0s 905us/step - loss: 0.6160 - accuracy: 0.6734\n",
      "Epoch 6/20\n",
      "28/28 [==============================] - 0s 856us/step - loss: 0.5969 - accuracy: 0.6824\n",
      "Epoch 7/20\n",
      "28/28 [==============================] - 0s 875us/step - loss: 0.6101 - accuracy: 0.6936\n",
      "Epoch 8/20\n",
      "28/28 [==============================] - 0s 847us/step - loss: 0.6101 - accuracy: 0.6958\n",
      "Epoch 9/20\n",
      "28/28 [==============================] - 0s 852us/step - loss: 0.5952 - accuracy: 0.6970\n",
      "Epoch 10/20\n",
      "28/28 [==============================] - 0s 930us/step - loss: 0.5705 - accuracy: 0.7127\n",
      "Epoch 11/20\n",
      "28/28 [==============================] - 0s 892us/step - loss: 0.6100 - accuracy: 0.6869\n",
      "Epoch 12/20\n",
      "28/28 [==============================] - 0s 1ms/step - loss: 0.5761 - accuracy: 0.6981\n",
      "Epoch 13/20\n",
      "28/28 [==============================] - 0s 1ms/step - loss: 0.5795 - accuracy: 0.6947\n",
      "Epoch 14/20\n",
      "28/28 [==============================] - 0s 1ms/step - loss: 0.5752 - accuracy: 0.7026\n",
      "Epoch 15/20\n",
      "28/28 [==============================] - 0s 1ms/step - loss: 0.5677 - accuracy: 0.7082\n",
      "Epoch 16/20\n",
      "28/28 [==============================] - 0s 1ms/step - loss: 0.5631 - accuracy: 0.7048\n",
      "Epoch 17/20\n",
      "28/28 [==============================] - 0s 881us/step - loss: 0.5750 - accuracy: 0.7003\n",
      "Epoch 18/20\n",
      "28/28 [==============================] - 0s 1ms/step - loss: 0.5696 - accuracy: 0.7082\n",
      "Epoch 19/20\n",
      "28/28 [==============================] - 0s 892us/step - loss: 0.5644 - accuracy: 0.7160\n",
      "Epoch 20/20\n",
      "28/28 [==============================] - 0s 781us/step - loss: 0.5609 - accuracy: 0.7104\n",
      "28/28 [==============================] - 0s 638us/step\n",
      "28/28 [==============================] - 0s 707us/step - loss: 0.5465 - accuracy: 0.7172\n",
      "Accuracy: 0.7171717286109924\n"
     ]
    }
   ],
   "source": [
    "# Set up the model\n",
    "model = Sequential()\n",
    "\n",
    "# Add the first layer\n",
    "model.add(Dense(32, activation=\"relu\", input_shape=(n_cols,)))\n",
    "\n",
    "# Add the output layer\n",
    "model.add(Dense(2, activation=\"softmax\"))\n",
    "\n",
    "# Compile the model\n",
    "model.compile(optimizer=\"sgd\", loss=\"categorical_crossentropy\", metrics=[\"accuracy\"])\n",
    "\n",
    "# Fit the model\n",
    "model.fit(predictors, target, epochs=20)\n",
    "\n",
    "# Calculate predictions: predictions\n",
    "predictions = model.predict(predictors)\n",
    "\n",
    "# Calculate predicted probability of survival: predicted_prob_true\n",
    "predicted_prob_true = predictions[:, 1]\n",
    "\n",
    "# Print Accuracy\n",
    "loss, accuracy = model.evaluate(predictors, target)\n",
    "print(\"Accuracy:\", accuracy)"
   ]
  },
  {
   "cell_type": "markdown",
   "metadata": {},
   "source": [
    "## Save & Load\n"
   ]
  },
  {
   "cell_type": "code",
   "execution_count": 6,
   "metadata": {
    "ExecuteTime": {
     "end_time": "2023-09-25T23:28:28.734270688Z",
     "start_time": "2023-09-25T23:28:28.562607027Z"
    }
   },
   "outputs": [
    {
     "name": "stdout",
     "output_type": "stream",
     "text": [
      "Model: \"sequential\"\n",
      "_________________________________________________________________\n",
      " Layer (type)                Output Shape              Param #   \n",
      "=================================================================\n",
      " dense (Dense)               (None, 32)                320       \n",
      "                                                                 \n",
      " dense_1 (Dense)             (None, 2)                 66        \n",
      "                                                                 \n",
      "=================================================================\n",
      "Total params: 386 (1.51 KB)\n",
      "Trainable params: 386 (1.51 KB)\n",
      "Non-trainable params: 0 (0.00 Byte)\n",
      "_________________________________________________________________\n",
      "28/28 [==============================] - 0s 610us/step\n"
     ]
    },
    {
     "name": "stderr",
     "output_type": "stream",
     "text": [
      "/home/youssef/.local/lib/python3.10/site-packages/keras/src/engine/training.py:3000: UserWarning: You are saving your model as an HDF5 file via `model.save()`. This file format is considered legacy. We recommend using instead the native Keras format, e.g. `model.save('my_model.keras')`.\n",
      "  saving_api.save_model(\n"
     ]
    }
   ],
   "source": [
    "model.save(\"Saved/titanic_model.h5\")\n",
    "\n",
    "my_model = load_model(\"Saved/titanic_model.h5\")\n",
    "my_model.summary()\n",
    "\n",
    "pred = my_model.predict(predictors)"
   ]
  },
  {
   "cell_type": "markdown",
   "metadata": {},
   "source": [
    "## Compare Models\n"
   ]
  },
  {
   "cell_type": "code",
   "execution_count": 7,
   "metadata": {
    "ExecuteTime": {
     "end_time": "2023-09-25T23:28:31.179267924Z",
     "start_time": "2023-09-25T23:28:28.732255193Z"
    }
   },
   "outputs": [
    {
     "name": "stdout",
     "output_type": "stream",
     "text": [
      "[0.3296089470386505, 0.6983240246772766, 0.6983240246772766, 0.659217894077301, 0.6927374005317688, 0.6759776473045349, 0.7094972133636475, 0.7094972133636475]\n",
      "[0.7039105892181396, 0.6927374005317688, 0.6815642714500427, 0.7541899681091309, 0.6536312699317932, 0.34078213572502136, 0.7150837779045105]\n",
      "[0.7262569665908813, 0.7206704020500183, 0.7206704020500183, 0.7262569665908813, 0.7150837779045105, 0.7206704020500183, 0.74301677942276, 0.7262569665908813, 0.7206704020500183, 0.7039105892181396]\n",
      "final_accuracy1 =  0.7094972133636475\n",
      "final_accuracy2 =  0.7150837779045105\n",
      "final_accuracy3 =  0.7039105892181396\n"
     ]
    },
    {
     "data": {
      "image/png": "[encoded data removed]",
      "text/plain": [
       "<Figure size 640x480 with 1 Axes>"
      ]
     },
     "metadata": {},
     "output_type": "display_data"
    }
   ],
   "source": [
    "early_stopping = EarlyStopping(patience=3)\n",
    "\n",
    "# Model 1\n",
    "model1 = Sequential()\n",
    "\n",
    "model1.add(Dense(10, activation=\"relu\", input_shape=(n_cols,)))\n",
    "\n",
    "model1.add(Dense(10, activation=\"relu\"))\n",
    "\n",
    "model1.add(Dense(2, activation=\"softmax\"))\n",
    "\n",
    "model1.compile(optimizer=\"sgd\", loss=\"categorical_crossentropy\", metrics=[\"accuracy\"])\n",
    "\n",
    "model1_training = model1.fit(\n",
    "    predictors,\n",
    "    target,\n",
    "    epochs=15,\n",
    "    validation_split=0.2,\n",
    "    callbacks=[early_stopping],\n",
    "    verbose=False,\n",
    ")\n",
    "\n",
    "\n",
    "# Model 2 same as model 1 but with more nodes\n",
    "model2 = Sequential()\n",
    "\n",
    "model2.add(Dense(100, activation=\"relu\", input_shape=(n_cols,)))\n",
    "\n",
    "model2.add(Dense(50, activation=\"relu\"))\n",
    "\n",
    "model2.add(Dense(2, activation=\"softmax\"))\n",
    "\n",
    "model2.compile(optimizer=\"sgd\", loss=\"categorical_crossentropy\", metrics=[\"accuracy\"])\n",
    "\n",
    "model2_training = model2.fit(\n",
    "    predictors,\n",
    "    target,\n",
    "    epochs=15,\n",
    "    validation_split=0.2,\n",
    "    callbacks=[early_stopping],\n",
    "    verbose=False,\n",
    ")\n",
    "\n",
    "\n",
    "# Model 3 same as model 1 but with more layers\n",
    "model3 = Sequential()\n",
    "\n",
    "model3.add(Dense(10, activation=\"relu\", input_shape=(n_cols,)))\n",
    "\n",
    "model3.add(Dense(10, activation=\"relu\"))\n",
    "\n",
    "model3.add(Dense(10, activation=\"relu\"))\n",
    "\n",
    "model3.add(Dense(2, activation=\"softmax\"))\n",
    "\n",
    "model3.compile(optimizer=\"sgd\", loss=\"categorical_crossentropy\", metrics=[\"accuracy\"])\n",
    "\n",
    "model3_training = model3.fit(\n",
    "    predictors,\n",
    "    target,\n",
    "    epochs=15,\n",
    "    validation_split=0.2,\n",
    "    callbacks=[early_stopping],\n",
    "    verbose=False,\n",
    ")\n",
    "\n",
    "\n",
    "print(model1_training.history[\"val_accuracy\"])\n",
    "print(model2_training.history[\"val_accuracy\"])\n",
    "print(model3_training.history[\"val_accuracy\"])\n",
    "\n",
    "print(\"final_accuracy1 = \", model1_training.history[\"val_accuracy\"][-1])\n",
    "print(\"final_accuracy2 = \", model2_training.history[\"val_accuracy\"][-1])\n",
    "print(\"final_accuracy3 = \", model3_training.history[\"val_accuracy\"][-1])\n",
    "\n",
    "# Plot the Comparasion\n",
    "plt.plot(\n",
    "    model1_training.history[\"val_accuracy\"],\n",
    "    \"r\",\n",
    "    model2_training.history[\"val_accuracy\"],\n",
    "    \"b\",\n",
    "    model3_training.history[\"val_accuracy\"],\n",
    "    \"g\",\n",
    ")\n",
    "plt.xlabel(\"Epochs\")\n",
    "plt.xlim(0, 15)\n",
    "plt.ylabel(\"Validation accuracy score\")\n",
    "plt.show()"
   ]
  }
 ],
 "metadata": {
  "kernelspec": {
   "display_name": "Python 3",
   "language": "python",
   "name": "python3"
  },
  "language_info": {
   "codemirror_mode": {
    "name": "ipython",
    "version": 3
   },
   "file_extension": ".py",
   "mimetype": "text/x-python",
   "name": "python",
   "nbconvert_exporter": "python",
   "pygments_lexer": "ipython3",
   "version": "3.10.12"
  },
  "orig_nbformat": 4
 },
 "nbformat": 4,
 "nbformat_minor": 2
}
