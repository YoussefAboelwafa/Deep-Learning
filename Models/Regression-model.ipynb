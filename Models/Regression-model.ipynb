{
 "cells": [
  {
   "cell_type": "code",
   "execution_count": 1,
   "metadata": {
    "ExecuteTime": {
     "end_time": "2023-09-25T23:29:39.555174805Z",
     "start_time": "2023-09-25T23:29:37.993941200Z"
    }
   },
   "outputs": [
    {
     "name": "stderr",
     "output_type": "stream",
     "text": [
      "2023-09-26 02:29:38.352157: I tensorflow/tsl/cuda/cudart_stub.cc:28] Could not find cuda drivers on your machine, GPU will not be used.\n",
      "2023-09-26 02:29:38.388411: I tensorflow/tsl/cuda/cudart_stub.cc:28] Could not find cuda drivers on your machine, GPU will not be used.\n",
      "2023-09-26 02:29:38.388941: I tensorflow/core/platform/cpu_feature_guard.cc:182] This TensorFlow binary is optimized to use available CPU instructions in performance-critical operations.\n",
      "To enable the following instructions: AVX2 FMA, in other operations, rebuild TensorFlow with the appropriate compiler flags.\n",
      "2023-09-26 02:29:39.008366: W tensorflow/compiler/tf2tensorrt/utils/py_utils.cc:38] TF-TRT Warning: Could not find TensorRT\n"
     ]
    }
   ],
   "source": [
    "import numpy as np\n",
    "import pandas as pd\n",
    "from tensorflow.keras.layers import Dense\n",
    "from tensorflow.keras.models import Sequential\n",
    "from tensorflow.keras.callbacks import EarlyStopping"
   ]
  },
  {
   "cell_type": "code",
   "execution_count": 2,
   "metadata": {
    "ExecuteTime": {
     "end_time": "2023-09-25T23:29:39.562816774Z",
     "start_time": "2023-09-25T23:29:39.557013516Z"
    }
   },
   "outputs": [],
   "source": [
    "wages = pd.read_csv(\"../datasets/wages.csv\")\n",
    "\n",
    "predictors = wages.drop([\"wage_per_hour\"], axis=1).values\n",
    "target = wages[\"wage_per_hour\"].values\n",
    "\n",
    "# Save the number of columns in predictors: n_cols\n",
    "n_cols = predictors.shape[1]"
   ]
  },
  {
   "cell_type": "markdown",
   "metadata": {},
   "source": [
    "### `early_stopping` with `patience=2` means to stop fitting if there is no decresing in the loss for the following 2 epochs\n"
   ]
  },
  {
   "cell_type": "code",
   "execution_count": 3,
   "metadata": {
    "ExecuteTime": {
     "end_time": "2023-09-25T23:29:39.570591666Z",
     "start_time": "2023-09-25T23:29:39.563102404Z"
    }
   },
   "outputs": [],
   "source": [
    "early_stopping = EarlyStopping(patience=2)"
   ]
  },
  {
   "cell_type": "markdown",
   "metadata": {},
   "source": [
    "### Complie and fit the model with `loss='mean_squared_error'` for regression\n",
    "\n",
    "### `validation_split = 0.3`\n",
    "\n",
    "### `metrics=[\"accuracy\"]` to show the accuracy with each epoch\n"
   ]
  },
  {
   "cell_type": "code",
   "execution_count": 4,
   "metadata": {
    "ExecuteTime": {
     "end_time": "2023-09-25T23:29:42.900504Z",
     "start_time": "2023-09-25T23:29:39.567596034Z"
    }
   },
   "outputs": [
    {
     "name": "stdout",
     "output_type": "stream",
     "text": [
      "Epoch 1/20\n"
     ]
    },
    {
     "name": "stderr",
     "output_type": "stream",
     "text": [
      "2023-09-26 02:29:41.284964: E tensorflow/compiler/xla/stream_executor/cuda/cuda_driver.cc:268] failed call to cuInit: CUDA_ERROR_NO_DEVICE: no CUDA-capable device is detected\n"
     ]
    },
    {
     "name": "stdout",
     "output_type": "stream",
     "text": [
      "12/12 [==============================] - 1s 13ms/step - loss: 82.7042 - accuracy: 0.0027 - val_loss: 53.5087 - val_accuracy: 0.0000e+00\n",
      "Epoch 2/20\n",
      "12/12 [==============================] - 0s 3ms/step - loss: 25.9468 - accuracy: 0.0027 - val_loss: 34.1249 - val_accuracy: 0.0000e+00\n",
      "Epoch 3/20\n",
      "12/12 [==============================] - 0s 3ms/step - loss: 26.6029 - accuracy: 0.0027 - val_loss: 32.9408 - val_accuracy: 0.0000e+00\n",
      "Epoch 4/20\n",
      "12/12 [==============================] - 0s 3ms/step - loss: 23.2835 - accuracy: 0.0027 - val_loss: 33.2242 - val_accuracy: 0.0000e+00\n",
      "Epoch 5/20\n",
      "12/12 [==============================] - 0s 3ms/step - loss: 22.6932 - accuracy: 0.0027 - val_loss: 32.6983 - val_accuracy: 0.0000e+00\n",
      "Epoch 6/20\n",
      "12/12 [==============================] - 0s 3ms/step - loss: 21.5482 - accuracy: 0.0027 - val_loss: 29.6003 - val_accuracy: 0.0000e+00\n",
      "Epoch 7/20\n",
      "12/12 [==============================] - 0s 3ms/step - loss: 20.9074 - accuracy: 0.0027 - val_loss: 28.0392 - val_accuracy: 0.0000e+00\n",
      "Epoch 8/20\n",
      "12/12 [==============================] - 0s 3ms/step - loss: 20.3242 - accuracy: 0.0027 - val_loss: 27.6413 - val_accuracy: 0.0000e+00\n",
      "Epoch 9/20\n",
      "12/12 [==============================] - 0s 4ms/step - loss: 20.0966 - accuracy: 0.0027 - val_loss: 26.3307 - val_accuracy: 0.0000e+00\n",
      "Epoch 10/20\n",
      "12/12 [==============================] - 0s 3ms/step - loss: 19.9574 - accuracy: 0.0027 - val_loss: 25.9517 - val_accuracy: 0.0000e+00\n",
      "Epoch 11/20\n",
      "12/12 [==============================] - 0s 3ms/step - loss: 19.9018 - accuracy: 0.0027 - val_loss: 25.6586 - val_accuracy: 0.0000e+00\n",
      "Epoch 12/20\n",
      "12/12 [==============================] - 0s 3ms/step - loss: 19.8978 - accuracy: 0.0027 - val_loss: 26.0247 - val_accuracy: 0.0000e+00\n",
      "Epoch 13/20\n",
      "12/12 [==============================] - 0s 3ms/step - loss: 19.7021 - accuracy: 0.0027 - val_loss: 25.5506 - val_accuracy: 0.0000e+00\n",
      "Epoch 14/20\n",
      "12/12 [==============================] - 0s 3ms/step - loss: 19.6293 - accuracy: 0.0027 - val_loss: 25.8865 - val_accuracy: 0.0000e+00\n",
      "Epoch 15/20\n",
      "12/12 [==============================] - 0s 3ms/step - loss: 19.5684 - accuracy: 0.0027 - val_loss: 25.5310 - val_accuracy: 0.0000e+00\n",
      "Epoch 16/20\n",
      "12/12 [==============================] - 0s 3ms/step - loss: 19.5650 - accuracy: 0.0027 - val_loss: 25.5510 - val_accuracy: 0.0000e+00\n",
      "Epoch 17/20\n",
      "12/12 [==============================] - 0s 3ms/step - loss: 19.5501 - accuracy: 0.0027 - val_loss: 25.3764 - val_accuracy: 0.0000e+00\n",
      "Epoch 18/20\n",
      "12/12 [==============================] - 0s 3ms/step - loss: 19.3671 - accuracy: 0.0027 - val_loss: 25.4905 - val_accuracy: 0.0000e+00\n",
      "Epoch 19/20\n",
      "12/12 [==============================] - 0s 3ms/step - loss: 19.3275 - accuracy: 0.0027 - val_loss: 25.6797 - val_accuracy: 0.0000e+00\n",
      "17/17 [==============================] - 0s 690us/step\n"
     ]
    }
   ],
   "source": [
    "# Set up the model: model\n",
    "model = Sequential()\n",
    "\n",
    "# Add the first layer\n",
    "model.add(Dense(50, activation=\"relu\", input_shape=(n_cols,)))\n",
    "\n",
    "# Add the second layer\n",
    "model.add(Dense(32, activation=\"relu\"))\n",
    "\n",
    "# Add the output layer\n",
    "model.add(Dense(1))\n",
    "\n",
    "# Compile the model\n",
    "model.compile(optimizer=\"adam\", loss=\"mean_squared_error\", metrics=[\"accuracy\"])\n",
    "\n",
    "# Fit the model\n",
    "model.fit(\n",
    "    predictors, target, validation_split=0.3, epochs=20, callbacks=[early_stopping]\n",
    ")\n",
    "\n",
    "preds = model.predict(predictors)"
   ]
  }
 ],
 "metadata": {
  "kernelspec": {
   "display_name": "Python 3",
   "language": "python",
   "name": "python3"
  },
  "language_info": {
   "codemirror_mode": {
    "name": "ipython",
    "version": 3
   },
   "file_extension": ".py",
   "mimetype": "text/x-python",
   "name": "python",
   "nbconvert_exporter": "python",
   "pygments_lexer": "ipython3",
   "version": "3.10.7"
  },
  "orig_nbformat": 4
 },
 "nbformat": 4,
 "nbformat_minor": 2
}
